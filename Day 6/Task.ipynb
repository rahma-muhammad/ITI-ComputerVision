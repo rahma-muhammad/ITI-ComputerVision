{
 "cells": [
  {
   "cell_type": "markdown",
   "id": "d1a18ee2",
   "metadata": {},
   "source": [
    "# First task in Lecture"
   ]
  },
  {
   "cell_type": "code",
   "execution_count": 1,
   "id": "cb53b18b",
   "metadata": {},
   "outputs": [],
   "source": [
    "import cv2\n",
    "import numpy as np\n",
    "from matplotlib import pyplot as plt"
   ]
  },
  {
   "cell_type": "code",
   "execution_count": 2,
   "id": "d424f662",
   "metadata": {},
   "outputs": [],
   "source": [
    "def nothing(x):\n",
    "    pass\n",
    "\n",
    "cv2.namedWindow('Control')\n",
    "cv2.createTrackbar('Row', 'Control', 0, 255, nothing)\n",
    "cv2.createTrackbar('Col', 'Control', 0, 255, nothing)\n",
    "cv2.createTrackbar('PixelX', 'Control', 0, 255, nothing)\n",
    "cv2.createTrackbar('PixelY', 'Control', 0, 255, nothing)\n",
    "\n",
    "\n",
    "img=np.zeros((255,255), np.uint8)\n",
    "\n",
    "while 1:\n",
    "    r = cv2.getTrackbarPos('Row', 'Control')\n",
    "    c = cv2.getTrackbarPos('Col', 'Control')\n",
    "    x = cv2.getTrackbarPos('PixelX', 'Control')\n",
    "    y = cv2.getTrackbarPos('PixelY', 'Control')\n",
    "    \n",
    "    img[r,:] = 255\n",
    "    img[:,c] = 255\n",
    "    img[x,y] = 255\n",
    "    \n",
    "    cv2.imshow('Control', img)\n",
    "    img=np.zeros((255,255), np.uint8)\n",
    "    k = cv2.waitKey(1)\n",
    "    if k == ord('q'):\n",
    "        break\n",
    "cv2.destroyAllWindows()"
   ]
  },
  {
   "cell_type": "markdown",
   "id": "13131703",
   "metadata": {},
   "source": [
    "# 2"
   ]
  },
  {
   "cell_type": "code",
   "execution_count": 12,
   "id": "e8c51801",
   "metadata": {},
   "outputs": [
    {
     "data": {
      "text/plain": [
       "<matplotlib.image.AxesImage at 0x1fbe89c9910>"
      ]
     },
     "execution_count": 12,
     "metadata": {},
     "output_type": "execute_result"
    },
    {
     "data": {
      "image/png": "[encoded data removed]",
      "text/plain": [
       "<Figure size 640x480 with 1 Axes>"
      ]
     },
     "metadata": {},
     "output_type": "display_data"
    }
   ],
   "source": [
    "img3 = np.zeros((256, 256,3),np.uint8)\n",
    "img3[50,:, 0] = np.arange(0,256)\n",
    "img3[150,:, 1] = np.arange(0,256)\n",
    "img3[220,:, 2] = np.arange(0,256)\n",
    "\n",
    "plt.imshow(img3)"
   ]
  },
  {
   "cell_type": "markdown",
   "id": "2631c11b",
   "metadata": {},
   "source": [
    "# 3"
   ]
  },
  {
   "cell_type": "code",
   "execution_count": 13,
   "id": "a21bbe07",
   "metadata": {},
   "outputs": [],
   "source": [
    "cv2.namedWindow('Lines')\n",
    "img3 = np.zeros((256, 256,3),np.uint8)\n",
    "\n",
    "while 1:\n",
    "    row = np.random.randint(0,255)\n",
    "    col = np.random.randint(0, 255)\n",
    "    c1 = np.random.randint(0, 255, size=3)\n",
    "    c2 = np.random.randint(0, 255, size=3)\n",
    "    \n",
    "    img3 = np.zeros((256, 256,3),np.uint8)\n",
    "    \n",
    "    img3[row,:] = c1\n",
    "    img3[:, col] = c2\n",
    "    \n",
    "    cv2.imshow('Lines', img3)\n",
    "    #img3 = np.zeros((256, 256,3),np.uint8)\n",
    "    \n",
    "    k = cv2.waitKey(100)\n",
    "    if k == ord('q'):\n",
    "        break\n",
    "cv2.destroyAllWindows()"
   ]
  },
  {
   "cell_type": "code",
   "execution_count": null,
   "id": "c4d2c836",
   "metadata": {},
   "outputs": [],
   "source": []
  }
 ],
 "metadata": {
  "kernelspec": {
   "display_name": "Python 3 (ipykernel)",
   "language": "python",
   "name": "python3"
  },
  "language_info": {
   "codemirror_mode": {
    "name": "ipython",
    "version": 3
   },
   "file_extension": ".py",
   "mimetype": "text/x-python",
   "name": "python",
   "nbconvert_exporter": "python",
   "pygments_lexer": "ipython3",
   "version": "3.9.13"
  }
 },
 "nbformat": 4,
 "nbformat_minor": 5
}
