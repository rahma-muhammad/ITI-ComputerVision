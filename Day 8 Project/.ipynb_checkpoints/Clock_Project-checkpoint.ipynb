{
 "cells": [
  {
   "cell_type": "code",
   "execution_count": 1,
   "id": "1edac405",
   "metadata": {},
   "outputs": [],
   "source": [
    "import cv2\n",
    "import numpy as np\n",
    "from matplotlib import pyplot as plt\n",
    "import math"
   ]
  },
  {
   "cell_type": "code",
   "execution_count": 2,
   "id": "166eb589",
   "metadata": {},
   "outputs": [
    {
     "name": "stdout",
     "output_type": "stream",
     "text": [
      "time = 28/08/2023\n",
      "date = 14:43:31\n"
     ]
    }
   ],
   "source": [
    "import datetime\n",
    "now = datetime.datetime.now()\n",
    "start = now.strftime(\"%d/%m/%Y %H:%M:%S\")\n",
    "print(\"time =\", start[:10])\n",
    "print(\"date =\", start[11:])"
   ]
  },
  {
   "cell_type": "code",
   "execution_count": 3,
   "id": "e4bf8593",
   "metadata": {},
   "outputs": [],
   "source": [
    "hours = {0 : 10, 1:7, 2:4, 3:0, 4:38, 5:35, 6:31, 7:28, 8:24, 9:21, 10:17, 11:14, 12:10, 13:7, 14:4, 15:0, 16:38, 17:35, 18:31, 19:28, 20:24, 21:21, 22:17, 24:14}"
   ]
  },
  {
   "cell_type": "code",
   "execution_count": 77,
   "id": "6c30f667",
   "metadata": {},
   "outputs": [],
   "source": [
    "mins = {15:0, 14: 0.1, 13:0.2, 12:0.3, 11:0.4, 10:0.5, 9:0.6, 8:0.7, 7:0.8, 6:0.9, 5:1.0, 4:1.1, 3: 1.2, 2:1.3, 1:1.4, 0:1.5, 59:1.6, 58: 1.7, 57:1.8, 56:1.9, 55:2, 54: 2.1, 53:2.2, 52:2.3, 51:2.4, 50:2.5, 49:2.6, 48:2.7, 47:2.8, 46:2.9, 45:3, 44:3.1, 43:3.2, 42: 3.3, 41:3.4, 40:3.5, 39:3.6, 38: 3.7, 37:3.8, 36:3.9, 35:4, 34:4.1,33:4.2, 32:4.3, 31:4.4, 30:3.4, 29:4.6, 28:4.7, 27:4.8, 26:4.9, 25:5, 24:5.1, 23:5.2, 22:5.3, 21:5.4, 20:5.5, 19:5.6, 18:5.7, 17:5.8, 16:5.9 }"
   ]
  },
  {
   "cell_type": "code",
   "execution_count": 4,
   "id": "81cc4b3b",
   "metadata": {},
   "outputs": [],
   "source": [
    "labels = {0:3, 30: 2, 60:1, 90:12, 120:11, 150:10, 180:9, 210:8, 240:7, 270:6, 300:5, 330:4}"
   ]
  },
  {
   "cell_type": "code",
   "execution_count": 5,
   "id": "9640b3e4",
   "metadata": {},
   "outputs": [],
   "source": [
    "def create_clk(img):\n",
    "    #Minutes dots\n",
    "    for i in range(0, 360, 6):\n",
    "        cv2.circle(img, (int(400+100*math.cos(math.radians(i))), \n",
    "                      int(400+100*math.sin(math.radians(i)))), 1,(255, 255, 0), -1)\n",
    "    #Hours dots   \n",
    "    for i in range(0, 360, 30):\n",
    "        cv2.circle(img, (int(400+100*math.cos(math.radians(i))), \n",
    "                      int(400+100*math.sin(math.radians(i)))), 3,(255, 255, 0), -1)\n",
    "    #Hours numbers\n",
    "    for i in range(0, 360, 30):\n",
    "        cv2.putText(img,f'{labels[i]}', (int(400+110*math.cos(math.radians(-i))), \n",
    "                      int(400+110*math.sin(math.radians(-i)))),cv2.FONT_ITALIC, 0.25, (255, 255, 0), 1, cv2.LINE_AA)\n",
    "    \n",
    "    #cv2.circle(img, (int(400+100*math.cos(math.radians(i))), \n",
    "                      #int(400+100*math.sin(math.radians(i)))), 3,(255, 255, 0), -1)\n",
    "\n",
    "    #The center of the clock\n",
    "    cv2.circle(img, (400, 400), 1,(200, 200, 0), 2)"
   ]
  },
  {
   "cell_type": "code",
   "execution_count": 19,
   "id": "4fb4802b",
   "metadata": {},
   "outputs": [],
   "source": [
    "import math\n",
    "i = 0\n",
    "img = np.zeros((800, 800, 3), np.uint8)\n",
    "cv2.circle(img, (400, 400), 100,(0, 0, 255), 2)\n",
    "\n",
    "create_clk(img)\n",
    "\n",
    "now = datetime.datetime.now()\n",
    "current = now.strftime(\"%d/%m/%Y %H:%M:%S\")\n",
    "sec = int(current[17:])\n",
    "mint = int(current[14:16])\n",
    "m, s = 0, 0\n",
    "## Control seconds\n",
    "if sec >= 15 and sec <= 59:\n",
    "    s = 6*(sec - 15)\n",
    "elif sec >= 0 and sec <= 14:\n",
    "    s = 270+(6*sec) \n",
    "\n",
    "## Control minutes\n",
    "if mint >= 15 and mint <= 59:\n",
    "    m = 6*(mint - 15)\n",
    "elif mint >= 0 and mint <= 14:\n",
    "    m = 270+(6*mint) \n",
    "    \n",
    "    \n",
    "hour = int(current[11:13])  \n",
    "\n",
    "\n",
    "## Control Hours\n",
    "if hour >= 15 and hour <= 24:\n",
    "    h = 30*(hour - 15)\n",
    "elif hour >= 3 and hour <= 12:\n",
    "    h = 30*(hour-3)\n",
    "elif hour >= 1 and hour < 3:\n",
    "    h = 270+(30*hour)\n",
    "elif hour > 12 and hour <15:\n",
    "    h = 270+(30*(hour-12))\n",
    "    \n",
    "cv2.namedWindow(\"Clock\") \n",
    "#i = 19\n",
    "while 1:\n",
    "    now = datetime.datetime.now()\n",
    "    current = now.strftime(\"%d/%m/%Y %H:%M:%S\")\n",
    "    cv2.putText(img,f'Date :{current[:10]}', (100, 100),cv2.FONT_ITALIC, 2, (255, 255, 0), 2, cv2.LINE_AA)\n",
    "    cv2.putText(img,f'Time :{current[11:]}', (100, 200),cv2.FONT_ITALIC, 2, (255, 255, 0), 2, cv2.LINE_AA)\n",
    "    \n",
    "    current_hour = int(current[11:13])\n",
    "    mint = int(current[14:16])\n",
    "    ## ********************************\n",
    "    ## Control Hour\n",
    "    hour = 19 * hours[current_hour]\n",
    "    if  mint > 20 and mint <= 45:\n",
    "        hour = 19 * (hours[current_hour]+hours[current_hour])//2\n",
    "    elif mint > 45 and mint <= 59:\n",
    "        add = 1\n",
    "        if hour == 3 or hour == 15:\n",
    "            add = -38\n",
    "        hour = 19 * (hours[current_hour]-add)\n",
    "        \n",
    "    cv2.line(img, (400, 400), (int(400+60*math.cos(h)), int(400+60*math.sin(h))), (0, 0, 255), 1)\n",
    "    \n",
    "    ## ********************************\\\n",
    "    ## Control Min\n",
    "    \n",
    "    cv2.line(img, (400, 400), (int(400+80*math.cos(math.radians(m))), int(400+80*math.sin(math.radians(m)))), (255, 200, 150), 1)\n",
    "    ## ********************************\n",
    "    ## Control Seconds \n",
    "    cv2.line(img, (400, 400), (int(400+80*math.cos(math.radians(s))), int(400+80*math.sin(math.radians(s)))), (255, 0, 150), 1)\n",
    "\n",
    "    cv2.imshow('Clock', img)\n",
    "    \n",
    "    k = cv2.waitKey(1)\n",
    "    m += 0.0006\n",
    "    s += 0.06\n",
    "    \n",
    "    img = np.zeros((800, 800, 3), np.uint8)\n",
    "    cv2.circle(img, (400, 400), 100,(0, 0, 255), 2)\n",
    "    \n",
    "    create_clk(img)\n",
    "    \n",
    "    if k == ord('q'):\n",
    "        break\n",
    "\n",
    "cv2.destroyAllWindows()\n",
    "\n"
   ]
  },
  {
   "cell_type": "code",
   "execution_count": null,
   "id": "bc12fe32",
   "metadata": {},
   "outputs": [],
   "source": []
  }
 ],
 "metadata": {
  "kernelspec": {
   "display_name": "Python 3 (ipykernel)",
   "language": "python",
   "name": "python3"
  },
  "language_info": {
   "codemirror_mode": {
    "name": "ipython",
    "version": 3
   },
   "file_extension": ".py",
   "mimetype": "text/x-python",
   "name": "python",
   "nbconvert_exporter": "python",
   "pygments_lexer": "ipython3",
   "version": "3.9.13"
  }
 },
 "nbformat": 4,
 "nbformat_minor": 5
}
