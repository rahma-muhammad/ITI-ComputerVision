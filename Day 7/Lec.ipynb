{
 "cells": [
  {
   "cell_type": "code",
   "execution_count": 1,
   "id": "c04a4eca",
   "metadata": {},
   "outputs": [],
   "source": [
    "import cv2\n",
    "import numpy as np\n",
    "from matplotlib import pyplot as plt"
   ]
  },
  {
   "cell_type": "code",
   "execution_count": 3,
   "id": "2a7f97d0",
   "metadata": {},
   "outputs": [],
   "source": [
    "img = np.zeros((500, 500, 3), np.uint8)"
   ]
  },
  {
   "cell_type": "code",
   "execution_count": 4,
   "id": "02bc4fa9",
   "metadata": {},
   "outputs": [],
   "source": [
    "def nothing(x):\n",
    "    pass\n",
    "\n",
    "cv2.namedWindow(\"Lines\")\n",
    "\n",
    "cv2.createTrackbar('x1', 'Lines', 0, 500, nothing)\n",
    "cv2.createTrackbar('y1', 'Lines', 0, 500, nothing)\n",
    "\n",
    "cv2.createTrackbar('x2', 'Lines', 0, 500, nothing)\n",
    "cv2.createTrackbar('y2', 'Lines', 0, 500, nothing)\n",
    "\n",
    "img = np.zeros((500, 500, 3), np.uint8)\n",
    "\n",
    "while 1:\n",
    "    x1 = cv2.getTrackbarPos('x1', 'Lines')\n",
    "    y1 = cv2.getTrackbarPos('y1', 'Lines')\n",
    "    \n",
    "    x2 = cv2.getTrackbarPos('x2', 'Lines')\n",
    "    y2 = cv2.getTrackbarPos('y2', 'Lines')\n",
    "    \n",
    "    cv2.line(img, (x1, y1), (x2, y2), (255, 0, 255), 12)\n",
    "    \n",
    "    cv2.imshow('Lines', img)\n",
    "    \n",
    "    img = np.zeros((500, 500, 3), np.uint8)\n",
    "    \n",
    "    k = cv2.waitKey(1)\n",
    "    \n",
    "    if k == ord('q'):\n",
    "        break\n",
    "\n",
    "cv2.destroyAllWindows()"
   ]
  },
  {
   "cell_type": "code",
   "execution_count": 3,
   "id": "68d6f33b",
   "metadata": {},
   "outputs": [],
   "source": [
    "cv2.namedWindow(\"Lines\")\n",
    "img = np.zeros((500, 500, 3), np.uint8)\n",
    "cv2.rectangle(img, (100,50), (250,250), (255, 0, 0), 12)\n",
    "cv2.line(img, (100,50), (250,250), (0, 0, 255), 12)\n",
    "cv2.line(img, (250, 50), (100,250), (0, 0, 255), 12)\n",
    "\n",
    "cv2.imshow('Lines', img)\n",
    "\n",
    "while 1:\n",
    "    k = cv2.waitKey(1)\n",
    "    \n",
    "    if k == ord('q'):\n",
    "        break\n",
    "\n",
    "cv2.destroyAllWindows()"
   ]
  },
  {
   "cell_type": "code",
   "execution_count": 12,
   "id": "713eaf74",
   "metadata": {},
   "outputs": [],
   "source": [
    "import math\n",
    "\n",
    "angle = math.radians(45)\n",
    "\n",
    "cv2.namedWindow(\"Lines\")\n",
    "img = np.zeros((500, 500, 3), np.uint8)\n",
    "cv2.circle(img, (250, 250), 100, (255, 255, 0), 2)\n",
    "cv2.line(img, (250, 250), (350, 250), (255, 255, 0), 2)\n",
    "cv2.line(img, (250, 250), (int(250+100*math.cos(angle)), int(250-100*math.sin(angle))), (255, 255, 0), 2)\n",
    "\n",
    "cv2.imshow('Lines', img)\n",
    "\n",
    "while 1:\n",
    "    k = cv2.waitKey(1)\n",
    "    \n",
    "    if k == ord('q'):\n",
    "        break\n",
    "\n",
    "cv2.destroyAllWindows()"
   ]
  },
  {
   "cell_type": "code",
   "execution_count": 10,
   "id": "301ce09d",
   "metadata": {},
   "outputs": [
    {
     "name": "stdout",
     "output_type": "stream",
     "text": [
      "320\n"
     ]
    }
   ],
   "source": [
    "print(int(250+100*math.cos(angle)))"
   ]
  },
  {
   "cell_type": "code",
   "execution_count": 8,
   "id": "79094768",
   "metadata": {},
   "outputs": [
    {
     "data": {
      "text/plain": [
       "<matplotlib.image.AxesImage at 0x23274cac7f0>"
      ]
     },
     "execution_count": 8,
     "metadata": {},
     "output_type": "execute_result"
    },
    {
     "data": {
      "image/png": "[encoded data removed]",
      "text/plain": [
       "<Figure size 640x480 with 1 Axes>"
      ]
     },
     "metadata": {},
     "output_type": "display_data"
    }
   ],
   "source": [
    "arr = np.array([[250, 250], [350, 100], [100, 200], [450, 300]])\n",
    "\n",
    "img = np.zeros((500, 500, 3), np.uint8)\n",
    "cv2.polylines(img, [arr], True,(255, 255, 0), 2)\n",
    "plt.imshow(img)"
   ]
  },
  {
   "cell_type": "code",
   "execution_count": 10,
   "id": "8d7f035b",
   "metadata": {},
   "outputs": [
    {
     "data": {
      "text/plain": [
       "<matplotlib.image.AxesImage at 0x23274d74d00>"
      ]
     },
     "execution_count": 10,
     "metadata": {},
     "output_type": "execute_result"
    },
    {
     "data": {
      "image/png": "[encoded data removed]",
      "text/plain": [
       "<Figure size 640x480 with 1 Axes>"
      ]
     },
     "metadata": {},
     "output_type": "display_data"
    }
   ],
   "source": [
    "img = np.zeros((500, 500, 3), np.uint8)\n",
    "cv2.putText(img,'Rahma', (250, 250),cv2.FONT_ITALIC, 2, (255, 255, 0), 2, cv2.LINE_AA)\n",
    "plt.imshow(img)"
   ]
  },
  {
   "cell_type": "code",
   "execution_count": 19,
   "id": "8684cc60",
   "metadata": {},
   "outputs": [],
   "source": [
    "img = np.zeros((500, 500, 3), np.uint8)\n",
    "def call_back(events, x, y, flags, param):\n",
    "    if events == cv2.EVENT_LBUTTONDBLCLK:\n",
    "        global img\n",
    "        img = np.zeros((500, 500, 3), np.uint8)\n",
    "        cv2.circle(img, (x, y), 20, (255, 255, 0), 2)\n",
    "        \n",
    "        \n",
    "cv2.namedWindow(\"Event\")      \n",
    "cv2.setMouseCallback('Event', call_back)        \n",
    "while 1:\n",
    "    cv2.imshow('Event', img)\n",
    "    k = cv2.waitKey(1)\n",
    " \n",
    "    if k == ord('q'):\n",
    "        break\n",
    "\n",
    "cv2.destroyAllWindows()"
   ]
  },
  {
   "cell_type": "code",
   "execution_count": null,
   "id": "797a6162",
   "metadata": {},
   "outputs": [],
   "source": []
  }
 ],
 "metadata": {
  "kernelspec": {
   "display_name": "Python 3 (ipykernel)",
   "language": "python",
   "name": "python3"
  },
  "language_info": {
   "codemirror_mode": {
    "name": "ipython",
    "version": 3
   },
   "file_extension": ".py",
   "mimetype": "text/x-python",
   "name": "python",
   "nbconvert_exporter": "python",
   "pygments_lexer": "ipython3",
   "version": "3.9.13"
  }
 },
 "nbformat": 4,
 "nbformat_minor": 5
}
