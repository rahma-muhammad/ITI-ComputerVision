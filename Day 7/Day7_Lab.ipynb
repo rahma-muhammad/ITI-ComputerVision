{
 "cells": [
  {
   "cell_type": "code",
   "execution_count": 1,
   "id": "cf9951f8",
   "metadata": {},
   "outputs": [],
   "source": [
    "import cv2\n",
    "import numpy as np\n",
    "from matplotlib import pyplot as plt"
   ]
  },
  {
   "cell_type": "markdown",
   "id": "8983cbd1",
   "metadata": {},
   "source": [
    "# Q1- Create image 256 * 256 Draw red square 50*50 in the center of blue circle with radius 80 the center of both square and circle is the same center of image."
   ]
  },
  {
   "cell_type": "code",
   "execution_count": 3,
   "id": "f172f23b",
   "metadata": {},
   "outputs": [
    {
     "data": {
      "text/plain": [
       "<matplotlib.image.AxesImage at 0x13cf6edd400>"
      ]
     },
     "execution_count": 3,
     "metadata": {},
     "output_type": "execute_result"
    },
    {
     "data": {
      "image/png": "[encoded data removed]",
      "text/plain": [
       "<Figure size 640x480 with 1 Axes>"
      ]
     },
     "metadata": {},
     "output_type": "display_data"
    }
   ],
   "source": [
    "img = np.zeros((256, 256, 3), np.uint8)\n",
    "cv2.rectangle(img, (103, 103), (153,153) ,(255, 0, 0), 2)\n",
    "cv2.circle(img, (128, 128), 80,(0, 0, 255), 2)\n",
    "plt.imshow(img)"
   ]
  },
  {
   "cell_type": "markdown",
   "id": "d000373b",
   "metadata": {},
   "source": [
    "# Q2 make trackbar to control line position ,color and thickness in image 500*500 rgb."
   ]
  },
  {
   "cell_type": "code",
   "execution_count": 10,
   "id": "65d5c048",
   "metadata": {},
   "outputs": [],
   "source": [
    "def nothing(x):\n",
    "    pass\n",
    "\n",
    "cv2.namedWindow(\"Lines\")\n",
    "\n",
    "cv2.createTrackbar('x1', 'Lines', 0, 500, nothing)\n",
    "cv2.createTrackbar('y1', 'Lines', 0, 500, nothing)\n",
    "cv2.createTrackbar('x2', 'Lines', 0, 500, nothing)\n",
    "cv2.createTrackbar('y2', 'Lines', 0, 500, nothing)\n",
    "cv2.createTrackbar('r', 'Lines', 0, 255, nothing)\n",
    "cv2.createTrackbar('g', 'Lines', 0, 255, nothing)\n",
    "cv2.createTrackbar('b', 'Lines', 0, 255, nothing)\n",
    "cv2.createTrackbar('Thickness', 'Lines', 1, 200, nothing)\n",
    "\n",
    "img2 = np.zeros((500, 500, 3), np.uint8)\n",
    "\n",
    "while 1:\n",
    "    x1 = cv2.getTrackbarPos('x1', 'Lines')\n",
    "    y1 = cv2.getTrackbarPos('y1', 'Lines')\n",
    "    \n",
    "    x2 = cv2.getTrackbarPos('x2', 'Lines')\n",
    "    y2 = cv2.getTrackbarPos('y2', 'Lines')\n",
    "    \n",
    "    r = cv2.getTrackbarPos('r', 'Lines')\n",
    "    g = cv2.getTrackbarPos('g', 'Lines')\n",
    "    b = cv2.getTrackbarPos('b', 'Lines')\n",
    "    \n",
    "    th = cv2.getTrackbarPos('Thickness', 'Lines')\n",
    "    \n",
    "    cv2.line(img2, (x1, y1), (x2, y2), (b, g, r), th)\n",
    "    \n",
    "    cv2.imshow('Lines', img2)\n",
    "    img2 = np.zeros((500, 500, 3), np.uint8)\n",
    "    \n",
    "    k = cv2.waitKey(1)\n",
    "    if k == ord('q'):\n",
    "        break\n",
    "\n",
    "cv2.destroyAllWindows()"
   ]
  },
  {
   "cell_type": "markdown",
   "id": "06a01447",
   "metadata": {},
   "source": [
    "# Q3 make trackbar to control position,radius and color of circle in image 500*500 rgb."
   ]
  },
  {
   "cell_type": "code",
   "execution_count": 5,
   "id": "f71bab09",
   "metadata": {},
   "outputs": [],
   "source": [
    "def nothing(x):\n",
    "    pass\n",
    "\n",
    "cv2.namedWindow(\"Circle\")\n",
    "\n",
    "cv2.createTrackbar('x', 'Circle', 0, 500, nothing)\n",
    "cv2.createTrackbar('y', 'Circle', 0, 500, nothing)\n",
    "cv2.createTrackbar('Radius', 'Circle', 1, 250, nothing)\n",
    "cv2.createTrackbar('r', 'Circle', 0, 500, nothing)\n",
    "cv2.createTrackbar('g', 'Circle', 0, 500, nothing)\n",
    "cv2.createTrackbar('b', 'Circle', 0, 500, nothing)\n",
    "cv2.createTrackbar('Thickness', 'Circle', 1, 200, nothing)\n",
    "\n",
    "img3 = np.zeros((500, 500, 3), np.uint8)\n",
    "\n",
    "while 1:\n",
    "    x = cv2.getTrackbarPos('x', 'Circle')\n",
    "    y = cv2.getTrackbarPos('y', 'Circle')\n",
    "    \n",
    "    ra = cv2.getTrackbarPos('Radius', 'Circle')\n",
    "    \n",
    "    r = cv2.getTrackbarPos('r', 'Circle')\n",
    "    g = cv2.getTrackbarPos('g', 'Circle')\n",
    "    b = cv2.getTrackbarPos('b', 'Circle')\n",
    "    \n",
    "    th = cv2.getTrackbarPos('Thickness', 'Circle')\n",
    "    \n",
    "    cv2.circle(img3, (x, y), ra, (b, g, r), th)\n",
    "    \n",
    "    cv2.imshow('Circle', img3)\n",
    "    img3 = np.zeros((500, 500, 3), np.uint8)\n",
    "    \n",
    "    k = cv2.waitKey(1)\n",
    "    if k == ord('q'):\n",
    "        break\n",
    "\n",
    "cv2.destroyAllWindows()"
   ]
  },
  {
   "cell_type": "markdown",
   "id": "ae92d95a",
   "metadata": {},
   "source": [
    "# Q4 create image 800*800 rgb write a word “Hello”with red color and draw yellow rectangle on border of word"
   ]
  },
  {
   "cell_type": "code",
   "execution_count": 3,
   "id": "559338a0",
   "metadata": {},
   "outputs": [
    {
     "data": {
      "text/plain": [
       "'       \\ncv2.namedWindow(\"Event\")      \\ncv2.setMouseCallback(\\'Event\\', call_back)        \\nwhile 1:\\n    cv2.imshow(\\'Event\\', img4)\\n    k = cv2.waitKey(1)\\n \\n    if k == ord(\\'q\\'):\\n        break\\n\\ncv2.destroyAllWindows()\\n'"
      ]
     },
     "execution_count": 3,
     "metadata": {},
     "output_type": "execute_result"
    }
   ],
   "source": [
    "img4 = np.zeros((800, 800, 3), np.uint8)\n",
    "cv2.putText(img4,'Hello', (250, 250),cv2.FONT_ITALIC, 2, (0, 0, 255), 2, cv2.LINE_AA)\n",
    "\n",
    "#Used events to get the border coordinates\n",
    "def call_back(events, x, y, flags, param):\n",
    "    if events == cv2.EVENT_LBUTTONDBLCLK:\n",
    "        print(f'Event : {x}, {y}')\n",
    "        #Event : 248, 197\n",
    "        #Event : 402, 253\n",
    "        \n",
    "'''       \n",
    "cv2.namedWindow(\"Event\")      \n",
    "cv2.setMouseCallback('Event', call_back)        \n",
    "while 1:\n",
    "    cv2.imshow('Event', img4)\n",
    "    k = cv2.waitKey(1)\n",
    " \n",
    "    if k == ord('q'):\n",
    "        break\n",
    "\n",
    "cv2.destroyAllWindows()\n",
    "'''"
   ]
  },
  {
   "cell_type": "code",
   "execution_count": 2,
   "id": "afbb6f1a",
   "metadata": {},
   "outputs": [
    {
     "data": {
      "text/plain": [
       "<matplotlib.image.AxesImage at 0x17d0026cb50>"
      ]
     },
     "execution_count": 2,
     "metadata": {},
     "output_type": "execute_result"
    },
    {
     "data": {
      "image/png": "[encoded data removed]",
      "text/plain": [
       "<Figure size 640x480 with 1 Axes>"
      ]
     },
     "metadata": {},
     "output_type": "display_data"
    }
   ],
   "source": [
    "img4 = np.zeros((800, 800, 3), np.uint8)\n",
    "cv2.putText(img4,'Hello', (250, 250),cv2.FONT_ITALIC, 2, (0, 0, 255), 2, cv2.LINE_AA)\n",
    "cv2.rectangle(img4, (249,197), (402,257), (0, 255, 255), 2)\n",
    "\n",
    "plt.imshow(img4)"
   ]
  },
  {
   "cell_type": "markdown",
   "id": "7aff7765",
   "metadata": {},
   "source": [
    "# Q5 create image 800*800 rgb with red circle in center of image with radius 100 and make small blue circle with radius of 6 that move within circumference of the big circle every 1 second 10 degree."
   ]
  },
  {
   "cell_type": "code",
   "execution_count": 49,
   "id": "8faba439",
   "metadata": {},
   "outputs": [],
   "source": [
    "import math\n",
    "i = 0\n",
    "img5 = np.zeros((800, 800, 3), np.uint8)\n",
    "cv2.circle(img5, (400, 400), 100,(0, 0, 255), 2)\n",
    "\n",
    "cv2.namedWindow(\"Move\")          \n",
    "while 1:\n",
    "    cv2.circle(img5, (int(400+100*math.cos(math.radians(10+i))), \n",
    "                      int(400+100*math.sin(math.radians(10+i)))), 6,(255, 0, 0), 1)\n",
    "    \n",
    "    i += 10\n",
    "    cv2.imshow('Move', img5)\n",
    "    \n",
    "    k = cv2.waitKey(1000)\n",
    "    \n",
    "    img5 = np.zeros((800, 800, 3), np.uint8)\n",
    "    cv2.circle(img5, (400, 400), 100,(0, 0, 255), 2)\n",
    "    \n",
    "    if k == ord('q'):\n",
    "        break\n",
    "\n",
    "cv2.destroyAllWindows()\n",
    "\n"
   ]
  },
  {
   "cell_type": "code",
   "execution_count": null,
   "id": "235e00de",
   "metadata": {},
   "outputs": [],
   "source": []
  }
 ],
 "metadata": {
  "kernelspec": {
   "display_name": "Python 3 (ipykernel)",
   "language": "python",
   "name": "python3"
  },
  "language_info": {
   "codemirror_mode": {
    "name": "ipython",
    "version": 3
   },
   "file_extension": ".py",
   "mimetype": "text/x-python",
   "name": "python",
   "nbconvert_exporter": "python",
   "pygments_lexer": "ipython3",
   "version": "3.9.13"
  }
 },
 "nbformat": 4,
 "nbformat_minor": 5
}
