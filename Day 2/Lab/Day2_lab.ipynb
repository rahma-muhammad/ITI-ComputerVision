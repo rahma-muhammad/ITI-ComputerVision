{
 "cells": [
  {
   "cell_type": "markdown",
   "id": "d989520e",
   "metadata": {},
   "source": [
    "# 1) Write a python code that ask the user to enter his birth year and then print his age in years."
   ]
  },
  {
   "cell_type": "code",
   "execution_count": 57,
   "id": "5c9fcfdd",
   "metadata": {},
   "outputs": [
    {
     "name": "stdout",
     "output_type": "stream",
     "text": [
      "Enter your birth year: 2000\n"
     ]
    }
   ],
   "source": [
    "curr_year = 2023\n",
    "year = input('Enter your birth year: ')"
   ]
  },
  {
   "cell_type": "code",
   "execution_count": 58,
   "id": "a2315ffb",
   "metadata": {},
   "outputs": [
    {
     "name": "stdout",
     "output_type": "stream",
     "text": [
      "You are 23 years old\n"
     ]
    }
   ],
   "source": [
    "print(f'You are {curr_year - int(year)} years old')"
   ]
  },
  {
   "cell_type": "markdown",
   "id": "8ae9bb0a",
   "metadata": {},
   "source": [
    "# 2) Write a python code to find Sum and Average of N Natural Numbers\n"
   ]
  },
  {
   "cell_type": "code",
   "execution_count": 2,
   "id": "56ab00a6",
   "metadata": {},
   "outputs": [
    {
     "name": "stdout",
     "output_type": "stream",
     "text": [
      "Please enter any number : 50\n"
     ]
    }
   ],
   "source": [
    "num = input(\"Please enter any number : \")"
   ]
  },
  {
   "cell_type": "code",
   "execution_count": 7,
   "id": "8250074c",
   "metadata": {},
   "outputs": [
    {
     "name": "stdout",
     "output_type": "stream",
     "text": [
      "1275\n",
      "The sum of natural numbers from 1 to 50 = 1275\n",
      "The Avrage of natural numbers from 1 to 50 = 25.0\n"
     ]
    }
   ],
   "source": [
    "import numpy as np\n",
    "num = int(num)\n",
    "print(sum([i for i in range(num+1)]))\n",
    "print(f\"The sum of natural numbers from 1 to 50 = {sum(np.arange(51))}\")\n",
    "print(f\"The Avrage of natural numbers from 1 to 50 = {np.mean(np.arange(51))}\")"
   ]
  },
  {
   "cell_type": "markdown",
   "id": "6504da0f",
   "metadata": {},
   "source": [
    "# 3) Python Program to Check Even or Odd"
   ]
  },
  {
   "cell_type": "code",
   "execution_count": 62,
   "id": "0b491978",
   "metadata": {},
   "outputs": [
    {
     "name": "stdout",
     "output_type": "stream",
     "text": [
      "Enter 'q' for exit.\n",
      "Enter any number: 4\n"
     ]
    }
   ],
   "source": [
    "print('Enter \\'q\\' for exit.')\n",
    "num2 = input('Enter any number: ')"
   ]
  },
  {
   "cell_type": "code",
   "execution_count": 63,
   "id": "fcab9a83",
   "metadata": {},
   "outputs": [
    {
     "name": "stdout",
     "output_type": "stream",
     "text": [
      "4 is an even number.\n"
     ]
    }
   ],
   "source": [
    "num2 = int(num2)\n",
    "if num2%2 == 0:\n",
    "    print(f'{num2} is an even number.')\n",
    "else:\n",
    "    print(f'{num2} is an odd number.')    "
   ]
  },
  {
   "cell_type": "markdown",
   "id": "5ea17721",
   "metadata": {},
   "source": [
    "# 4) What's Your Name?\n",
    "# https://www.hackerrank.com/challenges/whats-your-name/problem"
   ]
  },
  {
   "cell_type": "code",
   "execution_count": 13,
   "id": "c78f0066",
   "metadata": {},
   "outputs": [
    {
     "name": "stdout",
     "output_type": "stream",
     "text": [
      "Ross\n",
      "Taylor\n"
     ]
    }
   ],
   "source": [
    "first_name = input()\n",
    "last_name = input()"
   ]
  },
  {
   "cell_type": "code",
   "execution_count": 14,
   "id": "0597d241",
   "metadata": {},
   "outputs": [
    {
     "name": "stdout",
     "output_type": "stream",
     "text": [
      "Hello Ross Taylor ! You just delved into python.\n"
     ]
    }
   ],
   "source": [
    "print(f'Hello {first_name} {last_name} ! You just delved into python.')"
   ]
  },
  {
   "cell_type": "markdown",
   "id": "2f4dae35",
   "metadata": {},
   "source": [
    "# 5) String Split and Join\n",
    "# https://www.hackerrank.com/challenges/python-string-split-and-join/problem"
   ]
  },
  {
   "cell_type": "code",
   "execution_count": 15,
   "id": "7db02601",
   "metadata": {},
   "outputs": [
    {
     "name": "stdout",
     "output_type": "stream",
     "text": [
      "this is a string\n"
     ]
    }
   ],
   "source": [
    "text = input()"
   ]
  },
  {
   "cell_type": "code",
   "execution_count": 17,
   "id": "029c92dd",
   "metadata": {},
   "outputs": [
    {
     "name": "stdout",
     "output_type": "stream",
     "text": [
      "this-is-a-string\n"
     ]
    }
   ],
   "source": [
    "test_split = text.split(' ')\n",
    "text_joined = '-'.join(test_split)\n",
    "print(text_joined)"
   ]
  },
  {
   "cell_type": "markdown",
   "id": "a79259a0",
   "metadata": {},
   "source": [
    "# 6) sWAP cASE\n",
    "# https://www.hackerrank.com/challenges/swap-case/problem"
   ]
  },
  {
   "cell_type": "code",
   "execution_count": 18,
   "id": "17239ea3",
   "metadata": {},
   "outputs": [
    {
     "name": "stdout",
     "output_type": "stream",
     "text": [
      "Text to be swapped : HackerRank.com presents \"Pythonist 2\".\n"
     ]
    }
   ],
   "source": [
    "text2 = input('Text to be swapped : ')"
   ]
  },
  {
   "cell_type": "code",
   "execution_count": 64,
   "id": "652b0869",
   "metadata": {},
   "outputs": [
    {
     "name": "stdout",
     "output_type": "stream",
     "text": [
      "hACKERrANK.COM PRESENTS \"pYTHONIST 2\".\n"
     ]
    }
   ],
   "source": [
    "def swap_case(s):\n",
    "    return s.swapcase()\n",
    "\n",
    "\n",
    "print(swap_case(text2))"
   ]
  },
  {
   "cell_type": "markdown",
   "id": "96000352",
   "metadata": {},
   "source": [
    "# 7) Implement a code that takes as an input ASCII code for some characters and combine them to form a string."
   ]
  },
  {
   "cell_type": "code",
   "execution_count": 35,
   "id": "7ed00a96",
   "metadata": {},
   "outputs": [
    {
     "name": "stdout",
     "output_type": "stream",
     "text": [
      "82\n",
      "65\n",
      "46\n",
      "\n",
      "RA.\n"
     ]
    }
   ],
   "source": [
    "chars = []\n",
    "while True:\n",
    "    char = input()\n",
    "    if char == '':\n",
    "        break\n",
    "    chars.append(chr(int(char)))\n",
    "    \n",
    "    \n",
    "res = ''.join(chars)\n",
    "print(res)"
   ]
  },
  {
   "cell_type": "markdown",
   "id": "e2169708",
   "metadata": {},
   "source": [
    "# 8- Write a Python program which accepts the radius of a circle from the user and compute the area."
   ]
  },
  {
   "cell_type": "code",
   "execution_count": 9,
   "id": "46236f15",
   "metadata": {},
   "outputs": [
    {
     "name": "stdout",
     "output_type": "stream",
     "text": [
      "Enter the radius of the circle : 7\n"
     ]
    }
   ],
   "source": [
    "radius = int(input('Enter the radius of the circle : '))"
   ]
  },
  {
   "cell_type": "code",
   "execution_count": 10,
   "id": "a4313bbe",
   "metadata": {},
   "outputs": [
    {
     "name": "stdout",
     "output_type": "stream",
     "text": [
      "The area of the circle is 153.93804002589985\n"
     ]
    }
   ],
   "source": [
    "import math\n",
    "print(f'The area of the circle is {np.pi * (radius ** 2)}')"
   ]
  },
  {
   "cell_type": "markdown",
   "id": "843fe0b3",
   "metadata": {},
   "source": [
    "# 9- Write a Python program which accepts the user's first and last name and print them in reverse order with a space between them.\n"
   ]
  },
  {
   "cell_type": "code",
   "execution_count": 42,
   "id": "c29ba809",
   "metadata": {},
   "outputs": [
    {
     "name": "stdout",
     "output_type": "stream",
     "text": [
      "Enter First Name : Rahma\n",
      "Enter Last Name : Deabes\n"
     ]
    }
   ],
   "source": [
    "firstname = input('Enter First Name : ')\n",
    "lastname = input('Enter Last Name : ')"
   ]
  },
  {
   "cell_type": "code",
   "execution_count": 53,
   "id": "edf6c477",
   "metadata": {},
   "outputs": [
    {
     "name": "stdout",
     "output_type": "stream",
     "text": [
      "sebaeD amhaR\n"
     ]
    }
   ],
   "source": [
    "print(f'{lastname[::-1]} {firstname[::-1]}')"
   ]
  },
  {
   "cell_type": "markdown",
   "id": "5fd68195",
   "metadata": {},
   "source": [
    "# 10- Write a Python program to print the following string in a specific format with one variable name."
   ]
  },
  {
   "cell_type": "code",
   "execution_count": 45,
   "id": "64c93724",
   "metadata": {},
   "outputs": [
    {
     "name": "stdout",
     "output_type": "stream",
     "text": [
      "Twinkle, twinkle, little star,\n",
      "\tHow I wonder what you are!\n",
      "\t\tUp above the world so high,\n",
      "\t\tLike a diamond in the sky.\n",
      "Twinkle, twinkle, little star,\n",
      "\tHow I wonder what you are\n"
     ]
    }
   ],
   "source": [
    "name = 'Twinkle'\n",
    "print(f'{name}, {name.lower()}, little star,\\n\\tHow I wonder what you are!\\n\\t\\tUp above the world so high,\\n\\t\\tLike a diamond in the sky.\\n{name}, {name.lower()}, little star,\\n\\tHow I wonder what you are')"
   ]
  },
  {
   "cell_type": "markdown",
   "id": "44fa4577",
   "metadata": {},
   "source": [
    "# 11- find the multiples of 3 and 5 between 0 and 100"
   ]
  },
  {
   "cell_type": "code",
   "execution_count": 55,
   "id": "ed52d119",
   "metadata": {},
   "outputs": [],
   "source": [
    "multiples = [i for i in range(0, 100) if i % 3==0 and i % 5==0] "
   ]
  },
  {
   "cell_type": "code",
   "execution_count": 56,
   "id": "f9bc42d1",
   "metadata": {},
   "outputs": [
    {
     "name": "stdout",
     "output_type": "stream",
     "text": [
      "Mutliples of 3 and 5 together\n",
      "[0, 15, 30, 45, 60, 75, 90]\n"
     ]
    }
   ],
   "source": [
    "print('Mutliples of 3 and 5 together')\n",
    "print(multiples)"
   ]
  },
  {
   "cell_type": "code",
   "execution_count": null,
   "id": "308502d7",
   "metadata": {},
   "outputs": [],
   "source": []
  }
 ],
 "metadata": {
  "kernelspec": {
   "display_name": "Python 3 (ipykernel)",
   "language": "python",
   "name": "python3"
  },
  "language_info": {
   "codemirror_mode": {
    "name": "ipython",
    "version": 3
   },
   "file_extension": ".py",
   "mimetype": "text/x-python",
   "name": "python",
   "nbconvert_exporter": "python",
   "pygments_lexer": "ipython3",
   "version": "3.9.13"
  }
 },
 "nbformat": 4,
 "nbformat_minor": 5
}
