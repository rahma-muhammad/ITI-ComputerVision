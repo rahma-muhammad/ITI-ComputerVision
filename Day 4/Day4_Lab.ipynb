{
 "cells": [
  {
   "cell_type": "markdown",
   "id": "a104c870",
   "metadata": {},
   "source": [
    "# Q1 Create a Vehicle class with name, max_speed and mileage instance attributes."
   ]
  },
  {
   "cell_type": "code",
   "execution_count": 1,
   "id": "da36ea47",
   "metadata": {},
   "outputs": [],
   "source": [
    "class Vehicle():\n",
    "    def __init__(self, name, max_speed, mileage):\n",
    "        self.name = name\n",
    "        self.max_speed = max_speed\n",
    "        self.mileage = mileage"
   ]
  },
  {
   "cell_type": "markdown",
   "id": "445b476b",
   "metadata": {},
   "source": [
    "# Q2 Create a child class Bus that will inherit all of the attributes and methods of the Vehicle class."
   ]
  },
  {
   "cell_type": "code",
   "execution_count": 2,
   "id": "6df046c6",
   "metadata": {},
   "outputs": [],
   "source": [
    "class Bus(Vehicle):\n",
    "    def __init__(self, name, max_speed, mileage):\n",
    "        super().__init__(name, max_speed, mileage)"
   ]
  },
  {
   "cell_type": "code",
   "execution_count": 3,
   "id": "8d834fe6",
   "metadata": {},
   "outputs": [
    {
     "name": "stdout",
     "output_type": "stream",
     "text": [
      "Bus name : Bus 1, Bus max speed : 160, Bus mileage : 40\n"
     ]
    }
   ],
   "source": [
    "bus = Bus('Bus 1', 160, 40)\n",
    "print(f'Bus name : {bus.name}, Bus max speed : {bus.max_speed}, Bus mileage : {bus.mileage}')"
   ]
  },
  {
   "cell_type": "markdown",
   "id": "f09f8437",
   "metadata": {},
   "source": [
    "# Q3 Add a function seating_capacity to the vehicle class that takes as an argument the capacity of the vehicle and returns the following formatted string \"The seating capacity of a { vehicle_name } is {capacity} passengers"
   ]
  },
  {
   "cell_type": "code",
   "execution_count": 4,
   "id": "2d449d7f",
   "metadata": {},
   "outputs": [
    {
     "name": "stdout",
     "output_type": "stream",
     "text": [
      "The seating capacity of a Car is 4 passengers.\n"
     ]
    }
   ],
   "source": [
    "class Vehicle():\n",
    "    def __init__(self, name, max_speed, mileage):\n",
    "        self.name = name\n",
    "        self.max_speed = max_speed\n",
    "        self.miles = mileage\n",
    "    def seating_capacity(self, capacity):\n",
    "        return f\"The seating capacity of a {self.name} is {capacity} passengers.\"\n",
    "\n",
    "veh1 = Vehicle('Car', 180, 100)\n",
    "print(veh1.seating_capacity(4))"
   ]
  },
  {
   "cell_type": "markdown",
   "id": "d367dbfb",
   "metadata": {},
   "source": [
    "# Q4 override the function seating_capacity in the Bus class to give the capacity argument a default value of 50."
   ]
  },
  {
   "cell_type": "code",
   "execution_count": 5,
   "id": "40163cc4",
   "metadata": {},
   "outputs": [
    {
     "name": "stdout",
     "output_type": "stream",
     "text": [
      "The seating capacity of a New bus is 50 passengers.\n"
     ]
    }
   ],
   "source": [
    "class Bus(Vehicle):\n",
    "    def __init__(self, name, max_speed, mileage):\n",
    "        super().__init__(name, max_speed, mileage)\n",
    "        \n",
    "    def seating_capacity(self, capacity = 50):\n",
    "        return f\"The seating capacity of a {self.name} is {capacity} passengers.\"\n",
    "    \n",
    "bus1 = Bus('New bus' , 200, 50)\n",
    "print(bus1.seating_capacity())"
   ]
  },
  {
   "cell_type": "markdown",
   "id": "1daa9f16",
   "metadata": {},
   "source": [
    "# Q5 Add an instance variable to the Bus class called capacity and give it a default value of 50. "
   ]
  },
  {
   "cell_type": "code",
   "execution_count": 6,
   "id": "2b8047a7",
   "metadata": {},
   "outputs": [],
   "source": [
    "class Bus(Vehicle):\n",
    "    def __init__(self, name, max_speed, mileage, capacity = 50):\n",
    "        super().__init__(name, max_speed, mileage)\n",
    "        self.capacity = capacity\n",
    "        \n",
    "    def seating_capacity(self, capacity = 50):\n",
    "        return f\"The seating capacity of a {self.name} is {capacity} passengers.\""
   ]
  },
  {
   "cell_type": "code",
   "execution_count": 7,
   "id": "841be306",
   "metadata": {},
   "outputs": [
    {
     "name": "stdout",
     "output_type": "stream",
     "text": [
      "50\n"
     ]
    }
   ],
   "source": [
    "bus2 = Bus('a Bus', 120, 100)\n",
    "print(bus2.capacity)"
   ]
  },
  {
   "cell_type": "markdown",
   "id": "3fac3bd3",
   "metadata": {},
   "source": [
    "# Q6 Create a function fare() in the Bus class that calculates the renting fare of the bus per day according to the following equation. Fare = capacity *100"
   ]
  },
  {
   "cell_type": "code",
   "execution_count": 8,
   "id": "1564154c",
   "metadata": {},
   "outputs": [],
   "source": [
    "class Bus(Vehicle):\n",
    "    def __init__(self, name, max_speed, mileage, capacity = 50):\n",
    "        super().__init__(name, max_speed, mileage)\n",
    "        self.capacity = capacity\n",
    "        \n",
    "    def seating_capacity(self, capacity = 50):\n",
    "        return f\"The seating capacity of a {self.name} is {capacity} passengers.\"\n",
    "    \n",
    "    def fare(self):\n",
    "        rentingfare = self.capacity * 100\n",
    "        return rentingfare"
   ]
  },
  {
   "cell_type": "code",
   "execution_count": 9,
   "id": "e4f60eeb",
   "metadata": {},
   "outputs": [
    {
     "name": "stdout",
     "output_type": "stream",
     "text": [
      "The renting fare of a Bus is 5000\n"
     ]
    }
   ],
   "source": [
    "bus2 = Bus('a Bus', 120, 100)\n",
    "print(f'The renting fare of {bus2.name} is {bus2.fare()}')"
   ]
  },
  {
   "cell_type": "code",
   "execution_count": null,
   "id": "9742119f",
   "metadata": {},
   "outputs": [],
   "source": []
  }
 ],
 "metadata": {
  "kernelspec": {
   "display_name": "Python 3 (ipykernel)",
   "language": "python",
   "name": "python3"
  },
  "language_info": {
   "codemirror_mode": {
    "name": "ipython",
    "version": 3
   },
   "file_extension": ".py",
   "mimetype": "text/x-python",
   "name": "python",
   "nbconvert_exporter": "python",
   "pygments_lexer": "ipython3",
   "version": "3.9.13"
  }
 },
 "nbformat": 4,
 "nbformat_minor": 5
}
