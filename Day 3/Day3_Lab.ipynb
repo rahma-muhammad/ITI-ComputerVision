{
 "cells": [
  {
   "cell_type": "markdown",
   "id": "bd3f287b",
   "metadata": {},
   "source": [
    "# Q1 -Write a program to display the last digit of a number."
   ]
  },
  {
   "cell_type": "code",
   "execution_count": 4,
   "id": "0fa86ba6",
   "metadata": {},
   "outputs": [
    {
     "name": "stdout",
     "output_type": "stream",
     "text": [
      "1234\n",
      "4\n"
     ]
    }
   ],
   "source": [
    "def displaylastdigit(num):\n",
    "    print(num % 10)\n",
    "num1 = int(input())\n",
    "displaylastdigit(num1)"
   ]
  },
  {
   "cell_type": "markdown",
   "id": "6e979af5",
   "metadata": {},
   "source": [
    "# Q2- Write a program to check whether the last digit of a number( entered by user ) is divisible by 3 or not."
   ]
  },
  {
   "cell_type": "code",
   "execution_count": 6,
   "id": "871395c1",
   "metadata": {},
   "outputs": [
    {
     "name": "stdout",
     "output_type": "stream",
     "text": [
      "123456\n",
      "The last digit is divisible by 3\n"
     ]
    }
   ],
   "source": [
    "def lastdivisible(num):\n",
    "    if (num%10)%3==0 :\n",
    "        print('The last digit is divisible by 3')\n",
    "    else:\n",
    "        print('The last digit is NOT divisible by 3')\n",
    "        \n",
    "num2 = int(input())\n",
    "lastdivisible(num2)"
   ]
  },
  {
   "cell_type": "markdown",
   "id": "724faac5",
   "metadata": {},
   "source": [
    "# Q3- Write a program to accept a number from 1 to 7 and display the name of the day like 1 for Sunday , 2 for Monday and so on"
   ]
  },
  {
   "cell_type": "code",
   "execution_count": 11,
   "id": "16d85513",
   "metadata": {},
   "outputs": [
    {
     "name": "stdout",
     "output_type": "stream",
     "text": [
      "Please enter a number from 1 to 7 :2\n",
      "The day corresponding to 2 is Monday\n"
     ]
    }
   ],
   "source": [
    "import datetime\n",
    "days = {1:'Sunday', 2:'Monday', 3:'Tuesday', 4:'Wednesday', 5:'Thursday',6:'Friday',7:'Saturday'}\n",
    "def displaynameofday(num):\n",
    "    return days[num]\n",
    "\n",
    "num3 = int(input(\"Please enter a number from 1 to 7 :\"))\n",
    "print(f\"The day corresponding to {num3} is {displaynameofday(num3)}\")"
   ]
  },
  {
   "cell_type": "markdown",
   "id": "14159406",
   "metadata": {},
   "source": [
    "# Q4- Write a program to check a character is vowel or not"
   ]
  },
  {
   "cell_type": "code",
   "execution_count": 14,
   "id": "1a448af0",
   "metadata": {},
   "outputs": [
    {
     "name": "stdout",
     "output_type": "stream",
     "text": [
      "Enter a character : I\n",
      "I is a vowel\n"
     ]
    }
   ],
   "source": [
    "li = ['e', 'i', 'a', 'o', 'u']\n",
    "char = input(\"Enter a character : \")\n",
    "if char.lower() in li:\n",
    "    print(f'{char} is a vowel')\n",
    "else:\n",
    "    print(f'\\'{char}\\' is NOT a vowel')"
   ]
  },
  {
   "cell_type": "markdown",
   "id": "b8d036e2",
   "metadata": {},
   "source": [
    "# Q5- Accept the marked price from the user and calculate the Net amount as(Marked Price – Discount) to pay according to following criteria"
   ]
  },
  {
   "cell_type": "code",
   "execution_count": 16,
   "id": "3fce8809",
   "metadata": {},
   "outputs": [
    {
     "name": "stdout",
     "output_type": "stream",
     "text": [
      "Enter the price : 8500\n",
      "8500.0 after discount is 7225.0\n"
     ]
    }
   ],
   "source": [
    "def calculate_net(price):\n",
    "    if price <= 7000:\n",
    "        return price - (price*0.10) \n",
    "    elif price > 7000 and price <= 10000:\n",
    "        return price - (price*0.15)\n",
    "    elif price > 10000 :\n",
    "        return price - (price*0.20)\n",
    "        \n",
    "price = float(input('Enter the price : '))\n",
    "print(f'{price} after discount is {calculate_net(price)}')"
   ]
  },
  {
   "cell_type": "markdown",
   "id": "f15ad169",
   "metadata": {},
   "source": [
    "# Q6- Use a loop to display elements from a given list that are present at odd index positions"
   ]
  },
  {
   "cell_type": "code",
   "execution_count": 17,
   "id": "c32ee1bd",
   "metadata": {},
   "outputs": [
    {
     "name": "stdout",
     "output_type": "stream",
     "text": [
      "20\n",
      "40\n",
      "60\n",
      "80\n",
      "100\n"
     ]
    }
   ],
   "source": [
    "lst = [10, 20, 30, 40, 50, 60, 70, 80, 90, 100]\n",
    "\n",
    "for i in range(1, len(lst),2):\n",
    "    print(lst[i], sep=\" \")"
   ]
  },
  {
   "cell_type": "markdown",
   "id": "9e3137e7",
   "metadata": {},
   "source": [
    "# Q7 -Write program to print the following pattern using loop.\n"
   ]
  },
  {
   "cell_type": "markdown",
   "id": "38618437",
   "metadata": {},
   "source": [
    "# 1\n",
    "# 1  2\n",
    "# 1  2  3\n",
    "# 1  2  3  4"
   ]
  },
  {
   "cell_type": "code",
   "execution_count": 20,
   "id": "b9e223d5",
   "metadata": {},
   "outputs": [
    {
     "name": "stdout",
     "output_type": "stream",
     "text": [
      "1  \n",
      "1  2  \n",
      "1  2  3  \n",
      "1  2  3  4  \n"
     ]
    }
   ],
   "source": [
    "l = 4\n",
    "for i in range(1, l+1):\n",
    "    for j in range(1,i+1):\n",
    "        print(j, end='  ')\n",
    "    print()"
   ]
  },
  {
   "cell_type": "markdown",
   "id": "5d50c89f",
   "metadata": {},
   "source": [
    "# Q8 - Write a program that keep on accepting number from the user until user enters Zero. Display the sum and average of all the numbers.\n"
   ]
  },
  {
   "cell_type": "code",
   "execution_count": 22,
   "id": "c4edfe4e",
   "metadata": {},
   "outputs": [
    {
     "name": "stdout",
     "output_type": "stream",
     "text": [
      "1\n",
      "2\n",
      "3\n",
      "4\n",
      "0\n",
      "The sum is 10\n",
      "The average is 2.5\n"
     ]
    }
   ],
   "source": [
    "li = []\n",
    "while True:\n",
    "    num = int(input())\n",
    "    if num == 0:\n",
    "        break\n",
    "    li.append(num)\n",
    "print(f'The sum is {sum(li)}\\nThe average is {sum(li)/len(li)}')"
   ]
  },
  {
   "cell_type": "markdown",
   "id": "0442f318",
   "metadata": {},
   "source": [
    "# Q9- Generate a Python list of all the even numbers between 4 to 30"
   ]
  },
  {
   "cell_type": "code",
   "execution_count": 26,
   "id": "003f5f2d",
   "metadata": {},
   "outputs": [
    {
     "name": "stdout",
     "output_type": "stream",
     "text": [
      "[4, 6, 8, 10, 12, 14, 16, 18, 20, 22, 24, 26, 28]\n"
     ]
    }
   ],
   "source": [
    "print([i for i in range(4, 30) if i % 2 == 0])"
   ]
  },
  {
   "cell_type": "markdown",
   "id": "7cf5a863",
   "metadata": {},
   "source": [
    "# Q10- Make Method to Return the Maximum and Minimum item from the given list.\n",
    "# lst=[100,30,22,40,60,20,10,300]\n"
   ]
  },
  {
   "cell_type": "code",
   "execution_count": 28,
   "id": "088a4b09",
   "metadata": {},
   "outputs": [
    {
     "name": "stdout",
     "output_type": "stream",
     "text": [
      "The maximum number is 300 and minimum number is 10\n"
     ]
    }
   ],
   "source": [
    "def return_max_min(li):\n",
    "    print(f'The maximum number is {max(li)} and minimum number is {min(li)}')\n",
    "    \n",
    "lst=[100,30,22,40,60,20,10,300]\n",
    "return_max_min(lst)"
   ]
  },
  {
   "cell_type": "markdown",
   "id": "78bf029e",
   "metadata": {},
   "source": [
    "# 11\n",
    "# Python loops\n",
    "# https://www.hackerrank.com/challenges/python-loops/problem"
   ]
  },
  {
   "cell_type": "code",
   "execution_count": 30,
   "id": "6b31a8f3",
   "metadata": {},
   "outputs": [
    {
     "name": "stdout",
     "output_type": "stream",
     "text": [
      "Enter a number to get the square of all numbers smaller than it : 6\n",
      "0 1 4 9 16 25 "
     ]
    }
   ],
   "source": [
    "def squareall(num):\n",
    "    for i in range(0, num):\n",
    "        print(i ** 2, end = ' ')\n",
    "num11 = int(input('Enter a number to get the square of all numbers smaller than it : '))\n",
    "squareall(num11)"
   ]
  },
  {
   "cell_type": "markdown",
   "id": "6bc30204",
   "metadata": {},
   "source": [
    "# 12\n",
    "# Write a function\n",
    "# https://www.hackerrank.com/challenges/write-a-function/problem"
   ]
  },
  {
   "cell_type": "code",
   "execution_count": 32,
   "id": "6481c635",
   "metadata": {},
   "outputs": [
    {
     "name": "stdout",
     "output_type": "stream",
     "text": [
      "Enter the year : 1990\n",
      "1990 is not a leap year\n"
     ]
    }
   ],
   "source": [
    "def leap_year(year):\n",
    "    leap = False\n",
    "    \n",
    "    if year % 4 == 0:\n",
    "        if year % 100 == 0:\n",
    "            if year % 400 == 0:\n",
    "                leap = True\n",
    "        else:\n",
    "            leap = True              \n",
    "    return leap\n",
    "\n",
    "num12 = int(input('Enter the year : '))\n",
    "if leap_year(num12):\n",
    "    print(f'{num12} is a leap year')\n",
    "else:\n",
    "    print(f'{num12} is not a leap year')"
   ]
  },
  {
   "cell_type": "markdown",
   "id": "dd76990b",
   "metadata": {},
   "source": [
    "# 13\n",
    "# Py if else\n",
    "# https://www.hackerrank.com/challenges/py-if-else/problem"
   ]
  },
  {
   "cell_type": "code",
   "execution_count": 34,
   "id": "b91b29c9",
   "metadata": {},
   "outputs": [
    {
     "name": "stdout",
     "output_type": "stream",
     "text": [
      "Please enter a number : 24\n",
      "Not weird\n"
     ]
    }
   ],
   "source": [
    "def somecondition(num):\n",
    "    if num % 2 != 0:\n",
    "        print('Weird')\n",
    "    else:\n",
    "        if num in range(2, 6):\n",
    "            print('Not weird')\n",
    "        elif num in range(6, 21):\n",
    "            print('Weird')\n",
    "        elif num > 20:\n",
    "            print('Not weird')\n",
    "            \n",
    "num13 = int(input('Please enter a number : '))\n",
    "somecondition(num13)"
   ]
  },
  {
   "cell_type": "code",
   "execution_count": null,
   "id": "dc7d256f",
   "metadata": {},
   "outputs": [],
   "source": []
  }
 ],
 "metadata": {
  "kernelspec": {
   "display_name": "Python 3 (ipykernel)",
   "language": "python",
   "name": "python3"
  },
  "language_info": {
   "codemirror_mode": {
    "name": "ipython",
    "version": 3
   },
   "file_extension": ".py",
   "mimetype": "text/x-python",
   "name": "python",
   "nbconvert_exporter": "python",
   "pygments_lexer": "ipython3",
   "version": "3.9.13"
  }
 },
 "nbformat": 4,
 "nbformat_minor": 5
}
