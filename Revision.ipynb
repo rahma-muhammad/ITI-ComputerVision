{
 "cells": [
  {
   "cell_type": "markdown",
   "id": "e0052009",
   "metadata": {},
   "source": [
    "# Class inheritance"
   ]
  },
  {
   "cell_type": "code",
   "execution_count": 3,
   "id": "e3e01e25",
   "metadata": {},
   "outputs": [],
   "source": [
    "import cv2\n",
    "import matplotlib.pyplot as plt\n",
    "import numpy as np"
   ]
  },
  {
   "cell_type": "code",
   "execution_count": 1,
   "id": "3e8a78c3",
   "metadata": {},
   "outputs": [],
   "source": [
    "class Vehicle():\n",
    "    def __init__(self, name, max_speed, mileage):\n",
    "        self.name = name\n",
    "        self.max_speed = max_speed\n",
    "        self.mileage = mileage\n",
    "        \n",
    "        \n",
    "# Super().__init__(param1 ,param2, param3)  Same as the init in super class     \n",
    "class Bus(Vehicle):\n",
    "    def __init__(self, name, max_speed, mileage):\n",
    "        super().__init__(name, max_speed, mileage)"
   ]
  },
  {
   "cell_type": "markdown",
   "id": "6757dbd5",
   "metadata": {},
   "source": [
    "# Create image"
   ]
  },
  {
   "cell_type": "markdown",
   "id": "0051dfbd",
   "metadata": {},
   "source": [
    "## GrayScale"
   ]
  },
  {
   "cell_type": "code",
   "execution_count": 8,
   "id": "bc922284",
   "metadata": {},
   "outputs": [
    {
     "data": {
      "text/plain": [
       "<matplotlib.image.AxesImage at 0x1fdecad6f40>"
      ]
     },
     "execution_count": 8,
     "metadata": {},
     "output_type": "execute_result"
    },
    {
     "data": {
      "image/png": "[encoded data removed]",
      "text/plain": [
       "<Figure size 640x480 with 1 Axes>"
      ]
     },
     "metadata": {},
     "output_type": "display_data"
    }
   ],
   "source": [
    "img = np.array([\n",
    "[10, 200, 35],\n",
    "[50, 30, 50],\n",
    "[255, 80, 0]], dtype=np.uint8)\n",
    "\n",
    "plt.imshow(img, cmap='gray')\n",
    "#plt.imshow(img)"
   ]
  },
  {
   "cell_type": "code",
   "execution_count": 9,
   "id": "3920bf8f",
   "metadata": {},
   "outputs": [
    {
     "data": {
      "text/plain": [
       "(3, 3)"
      ]
     },
     "execution_count": 9,
     "metadata": {},
     "output_type": "execute_result"
    }
   ],
   "source": [
    "img.shape"
   ]
  },
  {
   "cell_type": "markdown",
   "id": "282dad64",
   "metadata": {},
   "source": [
    "## RGB"
   ]
  },
  {
   "cell_type": "code",
   "execution_count": 12,
   "id": "98477e11",
   "metadata": {},
   "outputs": [
    {
     "name": "stdout",
     "output_type": "stream",
     "text": [
      "(3, 3, 3)\n"
     ]
    },
    {
     "data": {
      "text/plain": [
       "<matplotlib.image.AxesImage at 0x1fdec637910>"
      ]
     },
     "execution_count": 12,
     "metadata": {},
     "output_type": "execute_result"
    },
    {
     "data": {
      "image/png": "[encoded data removed]",
      "text/plain": [
       "<Figure size 640x480 with 1 Axes>"
      ]
     },
     "metadata": {},
     "output_type": "display_data"
    }
   ],
   "source": [
    "img = np.array([\n",
    "[[255, 0, 5], [0, 0, 5], [25, 100, 5]],\n",
    "[[255, 100, 50], [255, 10, 5], [255, 90, 5]],\n",
    "[[25, 0, 50], [150, 0, 5], [100, 0, 5]]])\n",
    "print(img.shape)\n",
    "plt.imshow(img, cmap=plt.cm.gray)"
   ]
  },
  {
   "cell_type": "markdown",
   "id": "e6e6d46b",
   "metadata": {},
   "source": [
    "## Read and convert to rgb"
   ]
  },
  {
   "cell_type": "code",
   "execution_count": null,
   "id": "4f1acae0",
   "metadata": {},
   "outputs": [],
   "source": [
    "img = cv2.imread('orginal.jpg')\n",
    "img = cv2.cvtColor(img, cv2.COLOR_BGR2RGB)\n",
    "## or\n",
    "img = img[:, :, ::-1]"
   ]
  },
  {
   "cell_type": "markdown",
   "id": "4c2aa209",
   "metadata": {},
   "source": [
    "## Change the whole color"
   ]
  },
  {
   "cell_type": "code",
   "execution_count": null,
   "id": "e38d025f",
   "metadata": {},
   "outputs": [],
   "source": [
    "blue[:] = [0, 0, 255]  #rgb"
   ]
  },
  {
   "cell_type": "markdown",
   "id": "0b574527",
   "metadata": {},
   "source": [
    "## Save image"
   ]
  },
  {
   "cell_type": "code",
   "execution_count": null,
   "id": "33900e5e",
   "metadata": {},
   "outputs": [],
   "source": [
    "plt.imsave('my_image.png', img)"
   ]
  },
  {
   "cell_type": "markdown",
   "id": "caec1b0a",
   "metadata": {},
   "source": [
    "# Read frames from video"
   ]
  },
  {
   "cell_type": "code",
   "execution_count": null,
   "id": "3944c084",
   "metadata": {},
   "outputs": [],
   "source": [
    "cap = cv2.VideoCapture('')\n",
    "\n",
    "while(cap.isOpened()):\n",
    "    state,frame=cap.read()\n",
    "    if state == True:\n",
    "        cv2.imshow('Frame', frame)\n",
    "        \n",
    "        k = cv2.waitKey(2)\n",
    "        if k == ord('q'):\n",
    "            break\n",
    "        elif k == ord('s'):\n",
    "            cv2.imwrite('out.jpg', frame)\n",
    "    else:\n",
    "         break\n",
    "cap.release()\n",
    "cv2.destroyAllWindows()"
   ]
  },
  {
   "cell_type": "markdown",
   "id": "aea52732",
   "metadata": {},
   "source": [
    "# Track bar"
   ]
  },
  {
   "cell_type": "code",
   "execution_count": null,
   "id": "59c1a2b1",
   "metadata": {},
   "outputs": [],
   "source": [
    "#callback \n",
    "def nothing(x):\n",
    "    print(x)\n",
    "\n",
    "cv2.namedWindow('Window')\n",
    "cv2.createTrackbar('val', 'Window', 10, 255, nothing)\n",
    "img=np.zeros((,,1), np.uint8)\n",
    "\n",
    "while 1:\n",
    "    value = cv2.getTrackbarPos('val', 'Window')\n",
    "    #img[:] = value\n",
    "    cv2.imshow('Window', img)\n",
    "    \n",
    "    k = cv2.waitKey(1)\n",
    "    if k == ord('q'):\n",
    "        break\n",
    "cv2.destroyAllWindows()"
   ]
  },
  {
   "cell_type": "markdown",
   "id": "a6bbdce1",
   "metadata": {},
   "source": [
    "# Enumerate"
   ]
  },
  {
   "cell_type": "markdown",
   "id": "df6a98a7",
   "metadata": {},
   "source": [
    "# 2D"
   ]
  },
  {
   "cell_type": "code",
   "execution_count": null,
   "id": "c235beea",
   "metadata": {},
   "outputs": [],
   "source": [
    "for i, row in enumerate(img):\n",
    "    for j, col in enumerate(row):\n",
    "        if i ==j:\n",
    "            img[i, j]=255\n",
    "            \n",
    "img[50, :] = 255\n",
    "img[:, 100]\n",
    "plt.imshow(img, cmap = 'gray')"
   ]
  },
  {
   "cell_type": "markdown",
   "id": "83127953",
   "metadata": {},
   "source": [
    "# 3D"
   ]
  },
  {
   "cell_type": "code",
   "execution_count": null,
   "id": "6a35a4e0",
   "metadata": {},
   "outputs": [],
   "source": [
    "img = np.zeros((256, 256,3),np.uint8)\n",
    "img[:,:] = [255, 255, 255]\n",
    "\n",
    "for i, row in enumerate(img):\n",
    "    for j, col in enumerate(row):\n",
    "        if i == j:\n",
    "            img[i ,j]=0\n",
    "            \n",
    "plt.imshow(img)"
   ]
  },
  {
   "cell_type": "markdown",
   "id": "d45a8050",
   "metadata": {},
   "source": [
    "# Change the value of one color channel"
   ]
  },
  {
   "cell_type": "code",
   "execution_count": null,
   "id": "98a970f9",
   "metadata": {},
   "outputs": [],
   "source": [
    "img[50,:, 0] = np.arange(0,256)\n",
    "img[150,:, 1] = np.arange(0,256)\n",
    "img[220,:, 2] = np.arange(0,256)"
   ]
  },
  {
   "cell_type": "markdown",
   "id": "26b3c4bd",
   "metadata": {},
   "source": [
    "# Create random value between 0 and 256"
   ]
  },
  {
   "cell_type": "code",
   "execution_count": null,
   "id": "61f60a74",
   "metadata": {},
   "outputs": [],
   "source": [
    "np.random.randint(0,256)"
   ]
  },
  {
   "cell_type": "markdown",
   "id": "0329d435",
   "metadata": {},
   "source": [
    "# create size3 array values between 0 and 256"
   ]
  },
  {
   "cell_type": "code",
   "execution_count": null,
   "id": "5fd4ed6b",
   "metadata": {},
   "outputs": [],
   "source": [
    "np.random.randint(0, 255, size=3)"
   ]
  },
  {
   "cell_type": "markdown",
   "id": "e8703695",
   "metadata": {},
   "source": [
    "# Save frames as img1"
   ]
  },
  {
   "cell_type": "code",
   "execution_count": null,
   "id": "0f91ac0a",
   "metadata": {},
   "outputs": [],
   "source": [
    "if k == ord('s'):\n",
    "cv2.imwrite(f'img{counter}.jpg',frame)"
   ]
  },
  {
   "cell_type": "markdown",
   "id": "24e97aad",
   "metadata": {},
   "source": [
    "# Save video"
   ]
  },
  {
   "cell_type": "code",
   "execution_count": null,
   "id": "205dab5b",
   "metadata": {},
   "outputs": [],
   "source": [
    "cap=cv2.VideoCapture(0)\n",
    "if cap.isOpened() == False:\n",
    "    print('Error')\n",
    "    \n",
    "frameSize = (640, 480)\n",
    "\n",
    "out = cv2.VideoWriter('output_2.mp4', cv2.VideoWriter_fourcc(*'DIVX'), 30.0, frameSize)\n",
    "\n",
    "while 1:\n",
    "    state,frame=cap.read()\n",
    "    if state==True:\n",
    "        out.write(frame)\n",
    "        cv2.imshow('Frame',frame)\n",
    "      \n",
    "        k=cv2.waitKey(1)\n",
    "        if k== ord('q'):\n",
    "            break\n",
    "    else:\n",
    "        break\n",
    "      \n",
    "cap.release()\n",
    "out.release()\n",
    "cv2.destroyAllWindows()"
   ]
  },
  {
   "cell_type": "markdown",
   "id": "e4aee0be",
   "metadata": {},
   "source": [
    "# Line"
   ]
  },
  {
   "cell_type": "code",
   "execution_count": null,
   "id": "769ae198",
   "metadata": {},
   "outputs": [],
   "source": [
    "cv2.line(img, (x1, y1), (x2, y2), (255, 0, 255), thick)"
   ]
  },
  {
   "cell_type": "markdown",
   "id": "014fba23",
   "metadata": {},
   "source": [
    "# Rectangle"
   ]
  },
  {
   "cell_type": "code",
   "execution_count": null,
   "id": "d8dccbfa",
   "metadata": {},
   "outputs": [],
   "source": [
    "cv2.rectangle(img, (100,50), (250,250), (255, 0, 0), thick)"
   ]
  },
  {
   "cell_type": "markdown",
   "id": "4244a8d3",
   "metadata": {},
   "source": [
    "# Circle"
   ]
  },
  {
   "cell_type": "code",
   "execution_count": null,
   "id": "7a638e44",
   "metadata": {},
   "outputs": [],
   "source": [
    "cv2.circle(img, (250, 250), radius, (255, 255, 0), thickness)"
   ]
  },
  {
   "cell_type": "code",
   "execution_count": null,
   "id": "c418d049",
   "metadata": {},
   "outputs": [],
   "source": [
    "cv.line(img, (250, 250), (250+radius*math.cos(math.radians(theta),250+radius*math.sin(math.radians(theta)), thickness)"
   ]
  },
  {
   "cell_type": "markdown",
   "id": "87573efb",
   "metadata": {},
   "source": [
    "# Polygon"
   ]
  },
  {
   "cell_type": "code",
   "execution_count": 13,
   "id": "7d509171",
   "metadata": {
    "collapsed": true
   },
   "outputs": [
    {
     "data": {
      "text/plain": [
       "array([[[255,   0,   5],\n",
       "        [  0,   0,   5],\n",
       "        [ 25, 100,   5]],\n",
       "\n",
       "       [[255, 100,  50],\n",
       "        [255,  10,   5],\n",
       "        [255,  90,   5]],\n",
       "\n",
       "       [[ 25,   0,  50],\n",
       "        [150,   0,   5],\n",
       "        [100,   0,   5]]])"
      ]
     },
     "execution_count": 13,
     "metadata": {},
     "output_type": "execute_result"
    }
   ],
   "source": [
    "arr = np.array([[250, 250], [350, 100], [100, 200], [450, 300]])\n",
    "cv2.polylines(img, [arr], True,(255, 255, 0), 2)"
   ]
  },
  {
   "cell_type": "markdown",
   "id": "501d1abb",
   "metadata": {},
   "source": [
    "# Text"
   ]
  },
  {
   "cell_type": "code",
   "execution_count": null,
   "id": "d27adc76",
   "metadata": {},
   "outputs": [],
   "source": [
    "cv2.putText(img,'Text', (250, 250),cv2.FONT_ITALIC, scale, (255, 255, 0), thickness, cv2.LINE_AA)"
   ]
  },
  {
   "cell_type": "markdown",
   "id": "d5d32f8c",
   "metadata": {},
   "source": [
    "# Event"
   ]
  },
  {
   "cell_type": "code",
   "execution_count": 15,
   "id": "21896015",
   "metadata": {},
   "outputs": [],
   "source": [
    "img = np.zeros((500, 500, 3), np.uint8)\n",
    "\n",
    "def call_back(events, x, y, flags, param):\n",
    "    if events == cv2.EVENT_LBUTTONDBLCLK:\n",
    "        global img\n",
    "        img = np.zeros((500, 500, 3), np.uint8)\n",
    "        cv2.circle(img, (x, y), 20, (255, 255, 0), 2)\n",
    "        \n",
    "        \n",
    "cv2.namedWindow(\"Event\")      \n",
    "cv2.setMouseCallback('Event', call_back)        \n",
    "while 1:\n",
    "    cv2.imshow('Event', img)\n",
    "    k = cv2.waitKey(1)\n",
    " \n",
    "    if k == ord('q'):\n",
    "        break\n",
    "\n",
    "cv2.destroyAllWindows()"
   ]
  },
  {
   "cell_type": "markdown",
   "id": "5ae6253b",
   "metadata": {},
   "source": [
    "## Subplots"
   ]
  },
  {
   "cell_type": "code",
   "execution_count": null,
   "id": "135fdf20",
   "metadata": {},
   "outputs": [],
   "source": [
    "fig, axs = plt.subplots(2, 2, figsize=(20, 20))\n",
    "axs[0, 0].imshow(img3)\n",
    "axs[0, 0].set_title('Original Image')"
   ]
  },
  {
   "cell_type": "markdown",
   "id": "016a4a9e",
   "metadata": {},
   "source": [
    "# Filter"
   ]
  },
  {
   "cell_type": "markdown",
   "id": "9d41a354",
   "metadata": {},
   "source": [
    "# average"
   ]
  },
  {
   "cell_type": "code",
   "execution_count": null,
   "id": "5aa40484",
   "metadata": {},
   "outputs": [],
   "source": [
    "ker = np.ones((size, size) , np.float32) / (size**2)\n",
    "out = cv2.filter2D(img, -1, ker)"
   ]
  },
  {
   "cell_type": "markdown",
   "id": "ecfc4683",
   "metadata": {},
   "source": [
    "# Median"
   ]
  },
  {
   "cell_type": "code",
   "execution_count": null,
   "id": "00789ad5",
   "metadata": {},
   "outputs": [],
   "source": [
    "med = cv2.medianBlur(img ,size)"
   ]
  },
  {
   "cell_type": "markdown",
   "id": "081bf279",
   "metadata": {},
   "source": [
    "## Filter2D"
   ]
  },
  {
   "cell_type": "code",
   "execution_count": null,
   "id": "d9d33757",
   "metadata": {},
   "outputs": [],
   "source": [
    "# ker -> odd size\n",
    "out = cv2.filter2D(img, -1, ker)"
   ]
  },
  {
   "cell_type": "markdown",
   "id": "35d428be",
   "metadata": {},
   "source": [
    "# Blur"
   ]
  },
  {
   "cell_type": "markdown",
   "id": "452c04ee",
   "metadata": {},
   "source": [
    "## Blur function"
   ]
  },
  {
   "cell_type": "code",
   "execution_count": null,
   "id": "ec4afcd5",
   "metadata": {},
   "outputs": [],
   "source": [
    "blurred = cv2.blur(src, (size, size))"
   ]
  },
  {
   "cell_type": "markdown",
   "id": "2b012ac5",
   "metadata": {},
   "source": [
    "## Gaussian"
   ]
  },
  {
   "cell_type": "code",
   "execution_count": null,
   "id": "573966c4",
   "metadata": {},
   "outputs": [],
   "source": [
    "avg1= cv2.GaussianBlur(src, (size, size), sigma=1)"
   ]
  },
  {
   "cell_type": "markdown",
   "id": "2745d258",
   "metadata": {},
   "source": [
    "## bilateralFilter\n",
    "#### (img, diameter, sigmaColor, sigmaSpace)\n",
    "## sigmaColor -> large ->farther colors in the pixel neighborhood mixed together->color is gonna be the same\n",
    "## sigmaSpace -> large -> farther values will influence each other"
   ]
  },
  {
   "cell_type": "code",
   "execution_count": null,
   "id": "19265704",
   "metadata": {},
   "outputs": [],
   "source": [
    "b1 = cv2.bilateralFilter(img, 30, 75, 75)"
   ]
  },
  {
   "cell_type": "markdown",
   "id": "d83eb9d8",
   "metadata": {},
   "source": [
    "# Edges"
   ]
  },
  {
   "cell_type": "markdown",
   "id": "3d1e6a4c",
   "metadata": {},
   "source": [
    "## sobel"
   ]
  },
  {
   "cell_type": "code",
   "execution_count": null,
   "id": "8409f676",
   "metadata": {},
   "outputs": [],
   "source": [
    "# Horizontal\n",
    "sobel_x = np.array([[-1, -2, -1],\n",
    "                   [0, 0, 0], ------\n",
    "                   [1, 2, 1]])\n",
    "\n",
    "filtered_image = cv2.filter2D(gray, -1, sobel_x)"
   ]
  },
  {
   "cell_type": "code",
   "execution_count": null,
   "id": "bbb92cab",
   "metadata": {},
   "outputs": [],
   "source": [
    "# Vertical\n",
    "sobel_y = np.array([[-1, 0, 1],\n",
    "                   [-2, 0, 2],\n",
    "                   [-1, 0, 1]])\n",
    "\n",
    "filtered_image = cv2.filter2D(gray, -1, sobel_y)"
   ]
  },
  {
   "cell_type": "code",
   "execution_count": null,
   "id": "a190abbd",
   "metadata": {},
   "outputs": [],
   "source": [
    "# Both\n",
    "sobel_x = np.array([[0, 1, 0],\n",
    "                   [1, -4, 1],\n",
    "                   [0, 1, 0]])\n",
    "\n",
    "filtered_image = cv2.filter2D(gray, -1, sobel_x)"
   ]
  },
  {
   "cell_type": "markdown",
   "id": "4a0b60f0",
   "metadata": {},
   "source": [
    "## Canny\n",
    "## (img,  thresolds)\n",
    "## 1 noise reduction\n",
    "## 2 Finding Intensity Gradient of the Image\n",
    "## 3 Non-maximum Suppression\n",
    "## 4 Hysteresis Thresholding"
   ]
  },
  {
   "cell_type": "code",
   "execution_count": null,
   "id": "7eb74767",
   "metadata": {},
   "outputs": [],
   "source": [
    "edges = cv2.Canny(gray, 50, 150)\n",
    "plt.figure(figsize=(25, 25))\n",
    "plt.imshow(edges, cmap='gray')"
   ]
  },
  {
   "cell_type": "markdown",
   "id": "f4a682de",
   "metadata": {},
   "source": [
    "# Half white half black"
   ]
  },
  {
   "cell_type": "code",
   "execution_count": null,
   "id": "a8164da0",
   "metadata": {},
   "outputs": [],
   "source": [
    "img = np.zeros((100, 100), dtype=np.float32)\n",
    "img[:50, :] = 1"
   ]
  }
 ],
 "metadata": {
  "kernelspec": {
   "display_name": "Python 3 (ipykernel)",
   "language": "python",
   "name": "python3"
  },
  "language_info": {
   "codemirror_mode": {
    "name": "ipython",
    "version": 3
   },
   "file_extension": ".py",
   "mimetype": "text/x-python",
   "name": "python",
   "nbconvert_exporter": "python",
   "pygments_lexer": "ipython3",
   "version": "3.9.13"
  }
 },
 "nbformat": 4,
 "nbformat_minor": 5
}
