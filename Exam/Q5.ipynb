{
 "cells": [
  {
   "cell_type": "markdown",
   "id": "d5a0aa59",
   "metadata": {},
   "source": [
    "# load the following image then when you start single click in left mouse button set start point of rectangle and when move mouse cursor to another point and double click on left mouse button set end point then draw rectangle from started point to end point.\n",
    "# then should write \"Rectangle{counter}\"below the image based on counter value."
   ]
  },
  {
   "cell_type": "code",
   "execution_count": 1,
   "id": "801ee9b0",
   "metadata": {},
   "outputs": [],
   "source": [
    "import cv2\n",
    "import matplotlib.pyplot as plt\n",
    "import numpy as np"
   ]
  },
  {
   "cell_type": "code",
   "execution_count": 2,
   "id": "c9c21379",
   "metadata": {},
   "outputs": [],
   "source": [
    "img = cv2.imread('viola.jpg')"
   ]
  },
  {
   "cell_type": "code",
   "execution_count": 3,
   "id": "3e8a72c3",
   "metadata": {},
   "outputs": [
    {
     "data": {
      "text/plain": [
       "(400, 400, 3)"
      ]
     },
     "execution_count": 3,
     "metadata": {},
     "output_type": "execute_result"
    }
   ],
   "source": [
    "img.shape"
   ]
  },
  {
   "cell_type": "code",
   "execution_count": 4,
   "id": "810baf20",
   "metadata": {},
   "outputs": [],
   "source": [
    "myimg = img.copy()\n",
    "myimg2 = img.copy()\n",
    "\n",
    "x1, y1 = 0, 0\n",
    "count = 0\n",
    "recs = 0\n",
    "\n",
    "def call_back(events, x, y, flags, param):\n",
    "    global x1, y1\n",
    "    global count, recs\n",
    "    global myimg, myimg2\n",
    "    if events == cv2.EVENT_LBUTTONDOWN and count==0:\n",
    "        count += 2\n",
    "        x1 = x\n",
    "        y1 = y\n",
    "   \n",
    "    elif events == cv2.EVENT_LBUTTONDBLCLK:\n",
    "        count -= 1\n",
    "        cv2.rectangle(myimg, (x1, y1),(x,y), (255, 255, 0), 5)\n",
    "        recs += 1\n",
    "        cv2.putText(myimg, f'Rectangle {recs}', (min(x, x1), y+5),cv2.FONT_ITALIC, 0.5, (0, 0, 0), 1, cv2.LINE_AA)\n",
    "        \n",
    "        \n",
    "    elif events == cv2.EVENT_LBUTTONDOWN and count==1:\n",
    "        count -= 1   \n",
    "      \n",
    "    \n",
    "    \n",
    "cv2.namedWindow(\"Event\")      \n",
    "cv2.setMouseCallback('Event', call_back)       \n",
    "\n",
    "while 1:\n",
    "    cv2.imshow('Event', myimg)\n",
    "    \n",
    "    \n",
    "    k = cv2.waitKey(100)\n",
    "    \n",
    "    if k == ord('q'):\n",
    "        break\n",
    "\n",
    "cv2.destroyAllWindows()"
   ]
  },
  {
   "cell_type": "code",
   "execution_count": null,
   "id": "0a9c11f9",
   "metadata": {},
   "outputs": [],
   "source": []
  }
 ],
 "metadata": {
  "kernelspec": {
   "display_name": "Python 3 (ipykernel)",
   "language": "python",
   "name": "python3"
  },
  "language_info": {
   "codemirror_mode": {
    "name": "ipython",
    "version": 3
   },
   "file_extension": ".py",
   "mimetype": "text/x-python",
   "name": "python",
   "nbconvert_exporter": "python",
   "pygments_lexer": "ipython3",
   "version": "3.9.13"
  }
 },
 "nbformat": 4,
 "nbformat_minor": 5
}
