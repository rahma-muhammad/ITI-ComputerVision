{
 "cells": [
  {
   "cell_type": "code",
   "execution_count": 1,
   "id": "889d2a82",
   "metadata": {},
   "outputs": [
    {
     "name": "stdout",
     "output_type": "stream",
     "text": [
      "<class 'dict'>\n"
     ]
    }
   ],
   "source": [
    "date = {\"day\": 15,\"month\": \"4\",\"year\": 1964}; \n",
    "print(type(date))"
   ]
  },
  {
   "cell_type": "code",
   "execution_count": 7,
   "id": "03ff8cae",
   "metadata": {},
   "outputs": [],
   "source": [
    "import cv2\n",
    "import matplotlib.pyplot as plt\n",
    "import numpy as np"
   ]
  },
  {
   "cell_type": "code",
   "execution_count": 2,
   "id": "7ab9a9a5",
   "metadata": {},
   "outputs": [
    {
     "name": "stdout",
     "output_type": "stream",
     "text": [
      "30\n"
     ]
    }
   ],
   "source": [
    "def calculate(n1, n2=4):\n",
    "    res = n1* n2\n",
    "    print(res)\n",
    "calculate(5, 6)"
   ]
  },
  {
   "cell_type": "code",
   "execution_count": 3,
   "id": "40d47e8d",
   "metadata": {},
   "outputs": [
    {
     "name": "stdout",
     "output_type": "stream",
     "text": [
      "m, y,  , a, n, m, e,  , i, s, "
     ]
    }
   ],
   "source": [
    "stri = 'my anme is'\n",
    "for i in ' '.join(stri.split()):\n",
    "    print(i, end= ', ')"
   ]
  },
  {
   "cell_type": "code",
   "execution_count": 4,
   "id": "2297564d",
   "metadata": {},
   "outputs": [
    {
     "data": {
      "text/plain": [
       "[1, 5, 9]"
      ]
     },
     "execution_count": 4,
     "metadata": {},
     "output_type": "execute_result"
    }
   ],
   "source": [
    "a = [[1,2,3],\n",
    "    [4,5,6],\n",
    "    [7,8,9]]\n",
    "[a[i][i] for i in range(len(a))]"
   ]
  },
  {
   "cell_type": "code",
   "execution_count": 5,
   "id": "e17e7c50",
   "metadata": {},
   "outputs": [
    {
     "name": "stdout",
     "output_type": "stream",
     "text": [
      "3\n"
     ]
    }
   ],
   "source": [
    "class Vehicle():\n",
    "    def __init__(self, name):\n",
    "        name = 3\n",
    "        self.name = name\n",
    "a = Vehicle(5)        \n",
    "print(a.name)"
   ]
  },
  {
   "cell_type": "code",
   "execution_count": 9,
   "id": "af87a59d",
   "metadata": {},
   "outputs": [
    {
     "name": "stdout",
     "output_type": "stream",
     "text": [
      "<class 'NoneType'>\n"
     ]
    }
   ],
   "source": [
    "img = cv2.imread('img.png')\n",
    "print(type(img))"
   ]
  },
  {
   "cell_type": "code",
   "execution_count": 10,
   "id": "f9d4f0ae",
   "metadata": {},
   "outputs": [],
   "source": [
    "img=np.zeros((500,500,3), np.uint8)\n",
    "cv2.line(img,(0,0),(499,499),(0,255,255),5)\n",
    "\n",
    "\n",
    "cv2.namedWindow('Window')\n",
    "while 1:\n",
    "    cv2.imshow('Window', img)\n",
    "    \n",
    "    k = cv2.waitKey(1)\n",
    "    if k == ord('q'):\n",
    "        break\n",
    "cv2.destroyAllWindows()"
   ]
  },
  {
   "cell_type": "code",
   "execution_count": null,
   "id": "21d746bc",
   "metadata": {},
   "outputs": [],
   "source": []
  }
 ],
 "metadata": {
  "kernelspec": {
   "display_name": "Python 3 (ipykernel)",
   "language": "python",
   "name": "python3"
  },
  "language_info": {
   "codemirror_mode": {
    "name": "ipython",
    "version": 3
   },
   "file_extension": ".py",
   "mimetype": "text/x-python",
   "name": "python",
   "nbconvert_exporter": "python",
   "pygments_lexer": "ipython3",
   "version": "3.9.13"
  }
 },
 "nbformat": 4,
 "nbformat_minor": 5
}
