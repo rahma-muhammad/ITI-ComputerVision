{
 "cells": [
  {
   "cell_type": "markdown",
   "id": "99af6f91",
   "metadata": {},
   "source": [
    "# make 2 trackbar first one to switch between 2 images (0 ---> 1) and anther one to switch between 2 filter (canny, blur) (0 ---> 1) select preferred parameter for filters show the image in the same trackbar window when i press q stop the program."
   ]
  },
  {
   "cell_type": "code",
   "execution_count": 12,
   "id": "a147e3e9",
   "metadata": {},
   "outputs": [],
   "source": [
    "import cv2\n",
    "import matplotlib.pyplot as plt\n",
    "import numpy as np"
   ]
  },
  {
   "cell_type": "code",
   "execution_count": 13,
   "id": "6c98862a",
   "metadata": {},
   "outputs": [],
   "source": [
    "img1 = cv2.imread('nature.jpg')\n",
    "img2 = cv2.imread('Task_in.jpg')\n",
    "img1 = img1[:,:,::-1]; img2 = img2[:,:,::-1]"
   ]
  },
  {
   "cell_type": "code",
   "execution_count": 14,
   "id": "a624a771",
   "metadata": {},
   "outputs": [],
   "source": [
    "def doFilter(img , num):\n",
    "    if num == 0:\n",
    "        out = cv2.Canny(img, 50, 200)\n",
    "    elif num == 1:\n",
    "        out =cv2.blur(img, (7, 7))\n",
    "    return out"
   ]
  },
  {
   "cell_type": "code",
   "execution_count": 15,
   "id": "cdd53c97",
   "metadata": {},
   "outputs": [],
   "source": [
    "#callback \n",
    "def nothing(x):\n",
    "    pass\n",
    "\n",
    "cv2.namedWindow('Window')\n",
    "cv2.createTrackbar('image', 'Window', 0, 1, nothing)\n",
    "cv2.createTrackbar('Canny/Blur', 'Window', 0, 1, nothing)\n",
    "\n",
    "while 1:\n",
    "    num = cv2.getTrackbarPos('image', 'Window')\n",
    "    fil = cv2.getTrackbarPos('Canny/Blur', 'Window')\n",
    "    if num == 0:\n",
    "        out1 = doFilter(img1, fil)\n",
    "        cv2.imshow('Window', out1)\n",
    "    elif num == 1:\n",
    "        out2 = doFilter(img2, fil)\n",
    "        cv2.imshow('Window', out2)\n",
    "        \n",
    "    k = cv2.waitKey(1)\n",
    "    if k == ord('q'):\n",
    "        break\n",
    "cv2.destroyAllWindows()"
   ]
  },
  {
   "cell_type": "code",
   "execution_count": null,
   "id": "bddbade4",
   "metadata": {},
   "outputs": [],
   "source": []
  }
 ],
 "metadata": {
  "kernelspec": {
   "display_name": "Python 3 (ipykernel)",
   "language": "python",
   "name": "python3"
  },
  "language_info": {
   "codemirror_mode": {
    "name": "ipython",
    "version": 3
   },
   "file_extension": ".py",
   "mimetype": "text/x-python",
   "name": "python",
   "nbconvert_exporter": "python",
   "pygments_lexer": "ipython3",
   "version": "3.9.13"
  }
 },
 "nbformat": 4,
 "nbformat_minor": 5
}
