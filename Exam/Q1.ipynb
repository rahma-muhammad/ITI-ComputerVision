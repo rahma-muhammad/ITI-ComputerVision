{
 "cells": [
  {
   "cell_type": "markdown",
   "id": "329847ee",
   "metadata": {},
   "source": [
    "# Write a function that takes a list of various data types and returns a dictionary with data types as keys and with the data in the input list as items. Note: Function type() returns data type of input, example: type(3) will return int Sample input"
   ]
  },
  {
   "cell_type": "code",
   "execution_count": 20,
   "id": "afd37660",
   "metadata": {},
   "outputs": [
    {
     "name": "stdout",
     "output_type": "stream",
     "text": [
      "defaultdict(<class 'list'>, {\"<class 'int'>\": [3, 10], \"<class 'str'>\": ['strr', 'ooo'], \"<class 'list'>\": [[1, 2], [3, 4]], \"<class 'float'>\": [3.14]})\n"
     ]
    }
   ],
   "source": [
    "from collections import defaultdict\n",
    "\n",
    "def myFunc(*args):\n",
    "    mydict = defaultdict(list)\n",
    "    for i in args:\n",
    "        mydict[str(type(i))].append(i)\n",
    "    return mydict\n",
    "        \n",
    "print(myFunc(3, 10, 'strr' , [1, 2], [3,4], 3.14, 'ooo'))"
   ]
  },
  {
   "cell_type": "code",
   "execution_count": null,
   "id": "7905d95e",
   "metadata": {},
   "outputs": [],
   "source": []
  }
 ],
 "metadata": {
  "kernelspec": {
   "display_name": "Python 3 (ipykernel)",
   "language": "python",
   "name": "python3"
  },
  "language_info": {
   "codemirror_mode": {
    "name": "ipython",
    "version": 3
   },
   "file_extension": ".py",
   "mimetype": "text/x-python",
   "name": "python",
   "nbconvert_exporter": "python",
   "pygments_lexer": "ipython3",
   "version": "3.9.13"
  }
 },
 "nbformat": 4,
 "nbformat_minor": 5
}
